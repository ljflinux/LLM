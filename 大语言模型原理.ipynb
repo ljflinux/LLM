{
  "nbformat": 4,
  "nbformat_minor": 0,
  "metadata": {
    "colab": {
      "provenance": [],
      "authorship_tag": "ABX9TyP1F9LcfhPavsC8bHrCyseg",
      "include_colab_link": true
    },
    "kernelspec": {
      "name": "python3",
      "display_name": "Python 3"
    },
    "language_info": {
      "name": "python"
    }
  },
  "cells": [
    {
      "cell_type": "markdown",
      "metadata": {
        "id": "view-in-github",
        "colab_type": "text"
      },
      "source": [
        "<a href=\"https://colab.research.google.com/github/ljflinux/LLM/blob/main/%E5%A4%A7%E8%AF%AD%E8%A8%80%E6%A8%A1%E5%9E%8B%E5%8E%9F%E7%90%86.ipynb\" target=\"_parent\"><img src=\"https://colab.research.google.com/assets/colab-badge.svg\" alt=\"Open In Colab\"/></a>"
      ]
    },
    {
      "cell_type": "markdown",
      "source": [
        "# 大语言模型原理\n",
        "\n",
        "## 目录\n",
        "\n",
        "一、神经网络\n",
        "\n",
        "二、Tansformer原理\n",
        "\n",
        "三、大语言模型原理"
      ],
      "metadata": {
        "id": "0DHfL9qU5CBS"
      }
    },
    {
      "cell_type": "markdown",
      "source": [
        "## 一、神经网络\n",
        "\n",
        "### 1.1 神经网络历史\n",
        "\n",
        "感知机"
      ],
      "metadata": {
        "id": "VJGFi0lG5l7C"
      }
    },
    {
      "cell_type": "markdown",
      "source": [
        "## 二、Tansformer原理\n"
      ],
      "metadata": {
        "id": "OpIc4-7550rb"
      }
    },
    {
      "cell_type": "markdown",
      "source": [
        "## 三、大语言模型原理\n",
        "\n"
      ],
      "metadata": {
        "id": "L8fiBN026ygU"
      }
    },
    {
      "cell_type": "code",
      "execution_count": null,
      "metadata": {
        "id": "EH2ApsZy46fJ"
      },
      "outputs": [],
      "source": []
    }
  ]
}