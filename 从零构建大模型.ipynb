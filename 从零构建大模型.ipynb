{
  "nbformat": 4,
  "nbformat_minor": 0,
  "metadata": {
    "colab": {
      "provenance": [],
      "toc_visible": true,
      "authorship_tag": "ABX9TyMJgA4W3H5vjhuS3Z0ifPwO",
      "include_colab_link": true
    },
    "kernelspec": {
      "name": "python3",
      "display_name": "Python 3"
    },
    "language_info": {
      "name": "python"
    }
  },
  "cells": [
    {
      "cell_type": "markdown",
      "metadata": {
        "id": "view-in-github",
        "colab_type": "text"
      },
      "source": [
        "<a href=\"https://colab.research.google.com/github/ljflinux/LLM/blob/main/%E4%BB%8E%E9%9B%B6%E6%9E%84%E5%BB%BA%E5%A4%A7%E6%A8%A1%E5%9E%8B.ipynb\" target=\"_parent\"><img src=\"https://colab.research.google.com/assets/colab-badge.svg\" alt=\"Open In Colab\"/></a>"
      ]
    },
    {
      "cell_type": "markdown",
      "source": [
        "#《从零构建大模型》\n",
        "\n",
        "图书地址：https://weread.qq.com/web/bookdetail/52e320c0813ab9edeg01750f\n",
        "\n",
        "代码地址：https://github.com/rasbt/LLMs-from-scratch/tree/main"
      ],
      "metadata": {
        "id": "aT-Ngj9sufnB"
      }
    },
    {
      "cell_type": "markdown",
      "source": [
        "## 第一章 理解大模型语言"
      ],
      "metadata": {
        "id": "0v7CLE0SwOAG"
      }
    },
    {
      "cell_type": "markdown",
      "source": [
        "### 1.1 什么是大语言模型"
      ],
      "metadata": {
        "id": "89d9zT0Bwg-T"
      }
    },
    {
      "cell_type": "code",
      "execution_count": null,
      "metadata": {
        "id": "Pz_rGY1ouMly"
      },
      "outputs": [],
      "source": []
    },
    {
      "cell_type": "markdown",
      "source": [
        "### 1.2 大语言模型的应用"
      ],
      "metadata": {
        "id": "4wJYcLQjwxAZ"
      }
    },
    {
      "cell_type": "markdown",
      "source": [
        "### 1.3 构建和使用大语言模型的各个阶段"
      ],
      "metadata": {
        "id": "Ekuf9oFjw3D6"
      }
    },
    {
      "cell_type": "markdown",
      "source": [
        "### 1.4 Transformer 架构介绍"
      ],
      "metadata": {
        "id": "ws42o2ZDxDZ-"
      }
    },
    {
      "cell_type": "markdown",
      "source": [
        "### 1.5 利用大型数据集"
      ],
      "metadata": {
        "id": "PBGpwcsyxNJ7"
      }
    },
    {
      "cell_type": "markdown",
      "source": [
        "### 1.6 深入刨析GPT架构"
      ],
      "metadata": {
        "id": "gI_CjpMuxUE5"
      }
    },
    {
      "cell_type": "markdown",
      "source": [
        "### 1.7 构建大语言模型"
      ],
      "metadata": {
        "id": "iAk3w0a-xcAm"
      }
    },
    {
      "cell_type": "markdown",
      "source": [
        "### 1.8 小结"
      ],
      "metadata": {
        "id": "TMwnNozrxiX7"
      }
    },
    {
      "cell_type": "markdown",
      "source": [
        "## 第二章 处理文本数据"
      ],
      "metadata": {
        "id": "iQHaXE_dxmyb"
      }
    },
    {
      "cell_type": "markdown",
      "source": [
        "## 第三章 编码注意力机制"
      ],
      "metadata": {
        "id": "EEBJvMMgxscs"
      }
    },
    {
      "cell_type": "markdown",
      "source": [
        "## 第四章 从头实现GPT模型进行文本生成"
      ],
      "metadata": {
        "id": "3738vgVHx1N1"
      }
    },
    {
      "cell_type": "markdown",
      "source": [
        "## 第五章 在无标签数据上进行预训练"
      ],
      "metadata": {
        "id": "8bIFvxfkyCtN"
      }
    },
    {
      "cell_type": "markdown",
      "source": [
        "## 第六章 针对分类的微调"
      ],
      "metadata": {
        "id": "RKZSBYuvyKlu"
      }
    },
    {
      "cell_type": "markdown",
      "source": [
        "## 第七章 通过微调遵循人类指令"
      ],
      "metadata": {
        "id": "ZCE-5WYvyPsj"
      }
    },
    {
      "cell_type": "markdown",
      "source": [
        "## 附录A PyTorch简介"
      ],
      "metadata": {
        "id": "2QXvErzUyYMq"
      }
    },
    {
      "cell_type": "markdown",
      "source": [
        "## 附录B 参考文献和延申阅读"
      ],
      "metadata": {
        "id": "tfybAVUlyhBG"
      }
    },
    {
      "cell_type": "markdown",
      "source": [
        "## 附录C 练习的解决方案"
      ],
      "metadata": {
        "id": "YakQwsy0yqa8"
      }
    },
    {
      "cell_type": "markdown",
      "source": [
        "## 附录D 为训练循环添加更多细节和优化功能"
      ],
      "metadata": {
        "id": "GiO7bxe2yz9u"
      }
    },
    {
      "cell_type": "markdown",
      "source": [
        "## 附录E 使用LoRA进行参数高效微调"
      ],
      "metadata": {
        "id": "XIxypUlLzDPl"
      }
    },
    {
      "cell_type": "markdown",
      "source": [
        "## 附录F 理解推理大语言模型：构建与优化推理模型的方法与策略"
      ],
      "metadata": {
        "id": "F9irnSqKzPqB"
      }
    },
    {
      "cell_type": "markdown",
      "source": [
        "## 看完了"
      ],
      "metadata": {
        "id": "04F3SqSQzixh"
      }
    }
  ]
}