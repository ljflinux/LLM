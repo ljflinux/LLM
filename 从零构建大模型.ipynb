{
  "nbformat": 4,
  "nbformat_minor": 0,
  "metadata": {
    "colab": {
      "provenance": [],
      "authorship_tag": "ABX9TyMyK+oum/Z3McVqCMtrt8K0",
      "include_colab_link": true
    },
    "kernelspec": {
      "name": "python3",
      "display_name": "Python 3"
    },
    "language_info": {
      "name": "python"
    }
  },
  "cells": [
    {
      "cell_type": "markdown",
      "metadata": {
        "id": "view-in-github",
        "colab_type": "text"
      },
      "source": [
        "<a href=\"https://colab.research.google.com/github/ljflinux/LLM/blob/main/%E4%BB%8E%E9%9B%B6%E6%9E%84%E5%BB%BA%E5%A4%A7%E6%A8%A1%E5%9E%8B.ipynb\" target=\"_parent\"><img src=\"https://colab.research.google.com/assets/colab-badge.svg\" alt=\"Open In Colab\"/></a>"
      ]
    },
    {
      "cell_type": "markdown",
      "source": [
        "#《从零构建大模型》\n",
        "\n",
        "图书地址：https://weread.qq.com/web/bookdetail/52e320c0813ab9edeg01750f\n",
        "\n",
        "代码地址：https://github.com/rasbt/LLMs-from-scratch/tree/main"
      ],
      "metadata": {
        "id": "aT-Ngj9sufnB"
      }
    },
    {
      "cell_type": "markdown",
      "source": [
        "## 第一章 理解大模型语言"
      ],
      "metadata": {
        "id": "0v7CLE0SwOAG"
      }
    },
    {
      "cell_type": "markdown",
      "source": [
        "### 1.1 什么是大语言模型"
      ],
      "metadata": {
        "id": "89d9zT0Bwg-T"
      }
    },
    {
      "cell_type": "markdown",
      "source": [
        "### 1.2 大语言模型的应用"
      ],
      "metadata": {
        "id": "4wJYcLQjwxAZ"
      }
    },
    {
      "cell_type": "markdown",
      "source": [
        "### 1.3 构建和使用大语言模型的各个阶段"
      ],
      "metadata": {
        "id": "Ekuf9oFjw3D6"
      }
    },
    {
      "cell_type": "markdown",
      "source": [
        "### 1.4 Transformer 架构介绍"
      ],
      "metadata": {
        "id": "ws42o2ZDxDZ-"
      }
    },
    {
      "cell_type": "markdown",
      "source": [
        "### 1.5 利用大型数据集"
      ],
      "metadata": {
        "id": "PBGpwcsyxNJ7"
      }
    },
    {
      "cell_type": "markdown",
      "source": [
        "### 1.6 深入刨析GPT架构"
      ],
      "metadata": {
        "id": "gI_CjpMuxUE5"
      }
    },
    {
      "cell_type": "markdown",
      "source": [
        "### 1.7 构建大语言模型"
      ],
      "metadata": {
        "id": "iAk3w0a-xcAm"
      }
    },
    {
      "cell_type": "markdown",
      "source": [
        "### 1.8 小结"
      ],
      "metadata": {
        "id": "TMwnNozrxiX7"
      }
    },
    {
      "cell_type": "markdown",
      "source": [
        "## 第二章 处理文本数据"
      ],
      "metadata": {
        "id": "iQHaXE_dxmyb"
      }
    },
    {
      "cell_type": "markdown",
      "source": [
        "## 第三章 编码注意力机制"
      ],
      "metadata": {
        "id": "EEBJvMMgxscs"
      }
    },
    {
      "cell_type": "markdown",
      "source": [
        "## 第四章 从头实现GPT模型进行文本生成"
      ],
      "metadata": {
        "id": "3738vgVHx1N1"
      }
    },
    {
      "cell_type": "markdown",
      "source": [
        "## 第五章 在无标签数据上进行预训练"
      ],
      "metadata": {
        "id": "8bIFvxfkyCtN"
      }
    },
    {
      "cell_type": "markdown",
      "source": [
        "## 第六章 针对分类的微调"
      ],
      "metadata": {
        "id": "RKZSBYuvyKlu"
      }
    },
    {
      "cell_type": "markdown",
      "source": [
        "## 第七章 通过微调遵循人类指令"
      ],
      "metadata": {
        "id": "ZCE-5WYvyPsj"
      }
    },
    {
      "cell_type": "markdown",
      "source": [
        "## 附录A PyTorch简介"
      ],
      "metadata": {
        "id": "2QXvErzUyYMq"
      }
    },
    {
      "cell_type": "code",
      "source": [
        "import torch\n",
        "\n",
        "tensor1d = torch.tensor([1, 2, 3])\n",
        "print(tensor1d.dtype)\n",
        "\n",
        "tensor2d = torch.tensor([[1, 2, 3],\n",
        "             [4, 5, 6]])\n",
        "print(tensor2d)\n",
        "\n",
        "print(tensor2d.T)\n",
        "\n",
        "print(tensor2d @ tensor2d.T)"
      ],
      "metadata": {
        "colab": {
          "base_uri": "https://localhost:8080/"
        },
        "id": "uFGSeAhFbyg3",
        "outputId": "8f180836-729f-4bff-8632-c4a50a3827d6"
      },
      "execution_count": null,
      "outputs": [
        {
          "output_type": "stream",
          "name": "stdout",
          "text": [
            "torch.int64\n",
            "tensor([[1, 2, 3],\n",
            "        [4, 5, 6]])\n",
            "tensor([[1, 4],\n",
            "        [2, 5],\n",
            "        [3, 6]])\n",
            "tensor([[14, 32],\n",
            "        [32, 77]])\n"
          ]
        }
      ]
    },
    {
      "cell_type": "code",
      "source": [
        "import torch.nn.functional as F\n",
        "from torch.autograd import grad\n",
        "\n",
        "y = torch.tensor([1.0])\n",
        "x1 = torch.tensor([1.1])\n",
        "w1 = torch.tensor([2.2], requires_grad=True)\n",
        "b = torch.tensor([0.0], requires_grad=True)\n",
        "\n",
        "z = x1 * w1 + b\n",
        "a = torch.sigmoid(z)\n",
        "\n",
        "loss = F.binary_cross_entropy(a, y)\n",
        "\n",
        "grad_L_w1 = grad(loss, w1, retain_graph=True)\n",
        "grad_L_b = grad(loss, b, retain_graph=True)\n",
        "\n",
        "print(grad_L_w1)\n",
        "print(grad_L_b)\n",
        "\n",
        "loss.backward()\n",
        "print(w1.grad)\n",
        "print(b.grad)"
      ],
      "metadata": {
        "colab": {
          "base_uri": "https://localhost:8080/"
        },
        "id": "I3NRaVe4dWH0",
        "outputId": "f35000cb-2061-4bbb-b3fe-531468a4a4b3"
      },
      "execution_count": null,
      "outputs": [
        {
          "output_type": "stream",
          "name": "stdout",
          "text": [
            "(tensor([-0.0898]),)\n",
            "(tensor([-0.0817]),)\n",
            "tensor([-0.0898])\n",
            "tensor([-0.0817])\n"
          ]
        }
      ]
    },
    {
      "cell_type": "code",
      "source": [
        "print(torch.cuda.is_available())"
      ],
      "metadata": {
        "id": "hLgxT1scoiIb",
        "outputId": "d21ccb1d-7c57-400c-df48-dc8fab56d805",
        "colab": {
          "base_uri": "https://localhost:8080/"
        }
      },
      "execution_count": null,
      "outputs": [
        {
          "output_type": "stream",
          "name": "stdout",
          "text": [
            "False\n"
          ]
        }
      ]
    },
    {
      "cell_type": "code",
      "source": [],
      "metadata": {
        "id": "HOcAx0ctombg"
      },
      "execution_count": null,
      "outputs": []
    },
    {
      "cell_type": "markdown",
      "source": [
        "## 附录B 参考文献和延申阅读"
      ],
      "metadata": {
        "id": "tfybAVUlyhBG"
      }
    },
    {
      "cell_type": "markdown",
      "source": [
        "## 附录C 练习的解决方案"
      ],
      "metadata": {
        "id": "YakQwsy0yqa8"
      }
    },
    {
      "cell_type": "markdown",
      "source": [
        "## 附录D 为训练循环添加更多细节和优化功能"
      ],
      "metadata": {
        "id": "GiO7bxe2yz9u"
      }
    },
    {
      "cell_type": "markdown",
      "source": [
        "## 附录E 使用LoRA进行参数高效微调"
      ],
      "metadata": {
        "id": "XIxypUlLzDPl"
      }
    },
    {
      "cell_type": "markdown",
      "source": [
        "## 附录F 理解推理大语言模型：构建与优化推理模型的方法与策略"
      ],
      "metadata": {
        "id": "F9irnSqKzPqB"
      }
    },
    {
      "cell_type": "markdown",
      "source": [
        "## 看完了"
      ],
      "metadata": {
        "id": "04F3SqSQzixh"
      }
    }
  ]
}